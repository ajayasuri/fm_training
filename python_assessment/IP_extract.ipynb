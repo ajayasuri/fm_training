{
 "cells": [
  {
   "cell_type": "code",
   "execution_count": 1,
   "id": "98c26987",
   "metadata": {},
   "outputs": [],
   "source": [
    "import re\n",
    "import csv\n",
    "import pandas as pd\n",
    "\n",
    "def extract_IP_address(file):\n",
    "\n",
    "    with open(file) as fh:\n",
    "        fstring = fh.read().splitlines()\n",
    "    \n",
    "    pattern = re.compile(r'(\\d{1,4}\\.\\d{1,4}\\.\\d{1,4}\\.\\d{1,4})')\n",
    "\n",
    "    valid = []\n",
    "    invalid = []\n",
    "\n",
    "    for line in fstring:\n",
    "        line = line.rstrip()\n",
    "        result = pattern.search(line)\n",
    "    \n",
    "        if result:\n",
    "            valid.append(line)\n",
    "        else:\n",
    "            invalid.append(line)\n",
    "        \n",
    "    print(\"Valid IPS\")\n",
    "    print(valid)\n",
    "\n",
    "\n",
    "    df = pd.DataFrame(valid, columns = ['IP Adresses'])\n",
    "    df\n",
    "\n",
    "    df.to_csv('IP_adresses.csv', sep = ',', index = False)\n"
   ]
  },
  {
   "cell_type": "code",
   "execution_count": null,
   "id": "284c9667",
   "metadata": {},
   "outputs": [],
   "source": []
  }
 ],
 "metadata": {
  "kernelspec": {
   "display_name": "Python 3 (ipykernel)",
   "language": "python",
   "name": "python3"
  },
  "language_info": {
   "codemirror_mode": {
    "name": "ipython",
    "version": 3
   },
   "file_extension": ".py",
   "mimetype": "text/x-python",
   "name": "python",
   "nbconvert_exporter": "python",
   "pygments_lexer": "ipython3",
   "version": "3.9.12"
  }
 },
 "nbformat": 4,
 "nbformat_minor": 5
}
