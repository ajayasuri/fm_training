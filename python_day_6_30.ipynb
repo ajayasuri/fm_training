{
 "cells": [
  {
   "cell_type": "code",
   "execution_count": 1,
   "id": "158f8677",
   "metadata": {},
   "outputs": [],
   "source": [
    "data={}\n",
    "for i in range(11):\n",
    "    data[i]=i**2"
   ]
  },
  {
   "cell_type": "code",
   "execution_count": 2,
   "id": "ce86a77e",
   "metadata": {},
   "outputs": [
    {
     "data": {
      "text/plain": [
       "{0: 0, 1: 1, 2: 4, 3: 9, 4: 16, 5: 25, 6: 36, 7: 49, 8: 64, 9: 81, 10: 100}"
      ]
     },
     "execution_count": 2,
     "metadata": {},
     "output_type": "execute_result"
    }
   ],
   "source": [
    "data"
   ]
  },
  {
   "cell_type": "code",
   "execution_count": 3,
   "id": "f19b3b36",
   "metadata": {},
   "outputs": [],
   "source": [
    "a=[895,562,458,\"data\",45,652,45,\"AI\"]\n",
    "lst=[]\n",
    "\n",
    "for i in a:\n",
    "    if str(i).isdigit():\n",
    "        if i%2 == 0:\n",
    "            lst.append(i)"
   ]
  },
  {
   "cell_type": "code",
   "execution_count": 4,
   "id": "8e4f6134",
   "metadata": {},
   "outputs": [
    {
     "data": {
      "text/plain": [
       "[562, 458, 652]"
      ]
     },
     "execution_count": 4,
     "metadata": {},
     "output_type": "execute_result"
    }
   ],
   "source": [
    "lst"
   ]
  },
  {
   "cell_type": "code",
   "execution_count": 5,
   "id": "759a49d4",
   "metadata": {},
   "outputs": [],
   "source": [
    "data=\"\"\"\n",
    "it does not metter\n",
    "no matter\n",
    "don't give up\n",
    "world map\n",
    "when you feel like quiting\n",
    "\"\"\""
   ]
  },
  {
   "cell_type": "code",
   "execution_count": 6,
   "id": "01bbeb16",
   "metadata": {},
   "outputs": [],
   "source": [
    "out=[]\n",
    "for i in data.split(\"\\n\"):\n",
    "    if i.startswith('w'):\n",
    "        out.append(i)"
   ]
  },
  {
   "cell_type": "code",
   "execution_count": 7,
   "id": "b44f8703",
   "metadata": {},
   "outputs": [
    {
     "data": {
      "text/plain": [
       "['world map', 'when you feel like quiting']"
      ]
     },
     "execution_count": 7,
     "metadata": {},
     "output_type": "execute_result"
    }
   ],
   "source": [
    "out"
   ]
  },
  {
   "cell_type": "code",
   "execution_count": 15,
   "id": "c5941d28",
   "metadata": {},
   "outputs": [
    {
     "name": "stdout",
     "output_type": "stream",
     "text": [
      "insert herehello world123\n",
      "digit:  3\n",
      "letters:  11\n"
     ]
    }
   ],
   "source": [
    "msg = input('insert here')\n",
    "digit=[]\n",
    "string=[]\n",
    "\n",
    "for i in msg.strip():\n",
    "    if str(i).isdigit():\n",
    "        digit.append(i)\n",
    "    else:\n",
    "        string.append(i)\n",
    "        \n",
    "print(\"digit: \", len(digit))\n",
    "print(\"letters: \", len(string))\n",
    "    "
   ]
  },
  {
   "cell_type": "code",
   "execution_count": 9,
   "id": "8af9d2fc",
   "metadata": {},
   "outputs": [
    {
     "data": {
      "text/plain": [
       "['1', '2', '3']"
      ]
     },
     "execution_count": 9,
     "metadata": {},
     "output_type": "execute_result"
    }
   ],
   "source": [
    "digit"
   ]
  },
  {
   "cell_type": "code",
   "execution_count": 10,
   "id": "797f3da8",
   "metadata": {},
   "outputs": [
    {
     "data": {
      "text/plain": [
       "['h', 'e', 'l', 'l', 'o', ' ', 'w', 'o', 'r', 'l', 'd']"
      ]
     },
     "execution_count": 10,
     "metadata": {},
     "output_type": "execute_result"
    }
   ],
   "source": [
    "string"
   ]
  },
  {
   "cell_type": "code",
   "execution_count": 17,
   "id": "5f94558b",
   "metadata": {},
   "outputs": [
    {
     "name": "stdout",
     "output_type": "stream",
     "text": [
      "hello world123\n",
      "{'digit': 3, 'letter': 10}\n"
     ]
    }
   ],
   "source": [
    "data=input()\n",
    "d={\"digit\":0,\"letter\":0}\n",
    "for i in data:\n",
    "    if i.isdigit():\n",
    "        d['digit']+=1\n",
    "    elif i.isalpha():\n",
    "        d['letter']+=1\n",
    "\n",
    "print(d)"
   ]
  },
  {
   "cell_type": "code",
   "execution_count": 18,
   "id": "f3fd34fc",
   "metadata": {},
   "outputs": [],
   "source": [
    "# function "
   ]
  },
  {
   "cell_type": "code",
   "execution_count": 19,
   "id": "a3a069c8",
   "metadata": {},
   "outputs": [],
   "source": [
    "def jay():\n",
    "    return \"hello\""
   ]
  },
  {
   "cell_type": "code",
   "execution_count": 20,
   "id": "6093d341",
   "metadata": {},
   "outputs": [
    {
     "data": {
      "text/plain": [
       "'hello'"
      ]
     },
     "execution_count": 20,
     "metadata": {},
     "output_type": "execute_result"
    }
   ],
   "source": [
    "jay()"
   ]
  },
  {
   "cell_type": "code",
   "execution_count": 21,
   "id": "558af5d4",
   "metadata": {},
   "outputs": [],
   "source": [
    "def add(a,b):\n",
    "    print(a+b)"
   ]
  },
  {
   "cell_type": "code",
   "execution_count": 22,
   "id": "4b68419f",
   "metadata": {},
   "outputs": [
    {
     "name": "stdout",
     "output_type": "stream",
     "text": [
      "90\n"
     ]
    }
   ],
   "source": [
    "add(45,45)"
   ]
  },
  {
   "cell_type": "code",
   "execution_count": 23,
   "id": "48925c1a",
   "metadata": {},
   "outputs": [],
   "source": [
    "z=78\n",
    "def add(a,b):\n",
    "    global r,q\n",
    "    q=a+b\n",
    "    r=z+q\n",
    "    print(r)"
   ]
  },
  {
   "cell_type": "code",
   "execution_count": 24,
   "id": "055d25a9",
   "metadata": {},
   "outputs": [
    {
     "name": "stdout",
     "output_type": "stream",
     "text": [
      "98\n"
     ]
    }
   ],
   "source": [
    "add(10,10)"
   ]
  },
  {
   "cell_type": "code",
   "execution_count": 25,
   "id": "64786f06",
   "metadata": {},
   "outputs": [
    {
     "name": "stdout",
     "output_type": "stream",
     "text": [
      "20\n"
     ]
    }
   ],
   "source": [
    "print(q)"
   ]
  },
  {
   "cell_type": "code",
   "execution_count": 26,
   "id": "0779e717",
   "metadata": {},
   "outputs": [],
   "source": [
    "a=[45,78,56,89,23,56]"
   ]
  },
  {
   "cell_type": "code",
   "execution_count": 45,
   "id": "5485c187",
   "metadata": {},
   "outputs": [],
   "source": [
    "def calculator(a,b,c):\n",
    "        if c == 1:\n",
    "            print(a+b)\n",
    "        elif c == 2:\n",
    "            print(a-b)\n",
    "        elif c == 3:\n",
    "            print (a*b)\n",
    "        elif c == 4:\n",
    "            print (a/b)\n",
    "        elif c >= 5:\n",
    "            print('error')"
   ]
  },
  {
   "cell_type": "code",
   "execution_count": 46,
   "id": "8f20bcbf",
   "metadata": {},
   "outputs": [
    {
     "name": "stdout",
     "output_type": "stream",
     "text": [
      "error\n"
     ]
    }
   ],
   "source": [
    "calculator(10,20,5)"
   ]
  },
  {
   "cell_type": "code",
   "execution_count": 47,
   "id": "21917117",
   "metadata": {},
   "outputs": [],
   "source": [
    "class python:\n",
    "    \n",
    "    def __init__(self,a,b):\n",
    "        self.a=a\n",
    "        self.b=b\n",
    "        \n",
    "    def add(self):\n",
    "        return self.a+self.b\n",
    "    \n",
    "    "
   ]
  },
  {
   "cell_type": "code",
   "execution_count": 48,
   "id": "bcb005a3",
   "metadata": {},
   "outputs": [],
   "source": [
    "object1=python(45,55)"
   ]
  },
  {
   "cell_type": "code",
   "execution_count": 49,
   "id": "8a4bce7c",
   "metadata": {},
   "outputs": [
    {
     "data": {
      "text/plain": [
       "45"
      ]
     },
     "execution_count": 49,
     "metadata": {},
     "output_type": "execute_result"
    }
   ],
   "source": [
    "object1.a"
   ]
  },
  {
   "cell_type": "code",
   "execution_count": 50,
   "id": "1f039269",
   "metadata": {},
   "outputs": [
    {
     "data": {
      "text/plain": [
       "55"
      ]
     },
     "execution_count": 50,
     "metadata": {},
     "output_type": "execute_result"
    }
   ],
   "source": [
    "object1.b"
   ]
  },
  {
   "cell_type": "code",
   "execution_count": 51,
   "id": "60a9e8ee",
   "metadata": {},
   "outputs": [
    {
     "data": {
      "text/plain": [
       "100"
      ]
     },
     "execution_count": 51,
     "metadata": {},
     "output_type": "execute_result"
    }
   ],
   "source": [
    "object1.add()"
   ]
  },
  {
   "cell_type": "code",
   "execution_count": 52,
   "id": "402918b2",
   "metadata": {},
   "outputs": [],
   "source": [
    "class new:\n",
    "    a=45"
   ]
  },
  {
   "cell_type": "code",
   "execution_count": 53,
   "id": "c57fabe3",
   "metadata": {},
   "outputs": [],
   "source": [
    "obj=new()"
   ]
  },
  {
   "cell_type": "code",
   "execution_count": 54,
   "id": "4e3c9756",
   "metadata": {},
   "outputs": [
    {
     "data": {
      "text/plain": [
       "45"
      ]
     },
     "execution_count": 54,
     "metadata": {},
     "output_type": "execute_result"
    }
   ],
   "source": [
    "obj.a"
   ]
  },
  {
   "cell_type": "code",
   "execution_count": 56,
   "id": "60642abb",
   "metadata": {},
   "outputs": [
    {
     "data": {
      "text/plain": [
       "int"
      ]
     },
     "execution_count": 56,
     "metadata": {},
     "output_type": "execute_result"
    }
   ],
   "source": [
    "type(obj.a)"
   ]
  },
  {
   "cell_type": "code",
   "execution_count": 57,
   "id": "4662bbc9",
   "metadata": {},
   "outputs": [],
   "source": [
    "class circle:\n",
    "    def area(r):\n",
    "        return 3.14 * r**2"
   ]
  },
  {
   "cell_type": "code",
   "execution_count": 60,
   "id": "a9e04fbc",
   "metadata": {},
   "outputs": [
    {
     "ename": "TypeError",
     "evalue": "circle() takes no arguments",
     "output_type": "error",
     "traceback": [
      "\u001b[0;31m---------------------------------------------------------------------------\u001b[0m",
      "\u001b[0;31mTypeError\u001b[0m                                 Traceback (most recent call last)",
      "Input \u001b[0;32mIn [60]\u001b[0m, in \u001b[0;36m<cell line: 1>\u001b[0;34m()\u001b[0m\n\u001b[0;32m----> 1\u001b[0m c\u001b[38;5;241m=\u001b[39m\u001b[43mcircle\u001b[49m\u001b[43m(\u001b[49m\u001b[38;5;241;43m5\u001b[39;49m\u001b[43m)\u001b[49m\n",
      "\u001b[0;31mTypeError\u001b[0m: circle() takes no arguments"
     ]
    }
   ],
   "source": [
    "c=circle(5)"
   ]
  },
  {
   "cell_type": "code",
   "execution_count": 59,
   "id": "14a26197",
   "metadata": {},
   "outputs": [
    {
     "ename": "TypeError",
     "evalue": "area() takes 1 positional argument but 2 were given",
     "output_type": "error",
     "traceback": [
      "\u001b[0;31m---------------------------------------------------------------------------\u001b[0m",
      "\u001b[0;31mTypeError\u001b[0m                                 Traceback (most recent call last)",
      "Input \u001b[0;32mIn [59]\u001b[0m, in \u001b[0;36m<cell line: 1>\u001b[0;34m()\u001b[0m\n\u001b[0;32m----> 1\u001b[0m \u001b[43mc\u001b[49m\u001b[38;5;241;43m.\u001b[39;49m\u001b[43marea\u001b[49m\u001b[43m(\u001b[49m\u001b[38;5;241;43m5\u001b[39;49m\u001b[43m)\u001b[49m\n",
      "\u001b[0;31mTypeError\u001b[0m: area() takes 1 positional argument but 2 were given"
     ]
    }
   ],
   "source": [
    "c.area()"
   ]
  },
  {
   "cell_type": "code",
   "execution_count": null,
   "id": "1009435d",
   "metadata": {},
   "outputs": [],
   "source": [
    "class circle:\n",
    "    \n",
    "    def __init__(self, r):\n",
    "        self"
   ]
  }
 ],
 "metadata": {
  "kernelspec": {
   "display_name": "Python 3 (ipykernel)",
   "language": "python",
   "name": "python3"
  },
  "language_info": {
   "codemirror_mode": {
    "name": "ipython",
    "version": 3
   },
   "file_extension": ".py",
   "mimetype": "text/x-python",
   "name": "python",
   "nbconvert_exporter": "python",
   "pygments_lexer": "ipython3",
   "version": "3.9.12"
  }
 },
 "nbformat": 4,
 "nbformat_minor": 5
}
