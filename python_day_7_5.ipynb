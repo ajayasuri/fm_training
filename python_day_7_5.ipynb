{
 "cells": [
  {
   "cell_type": "code",
   "execution_count": 1,
   "id": "75daed34",
   "metadata": {},
   "outputs": [],
   "source": [
    "# Today's Agenda\n",
    "#lambda\n",
    "#built in function\n",
    "#methods and packages\n",
    "#exception handling\n",
    "#unit testing"
   ]
  },
  {
   "cell_type": "code",
   "execution_count": 2,
   "id": "a4da63ac",
   "metadata": {},
   "outputs": [],
   "source": [
    "# lambda arguments : expression"
   ]
  },
  {
   "cell_type": "code",
   "execution_count": 3,
   "id": "e7fbd43d",
   "metadata": {},
   "outputs": [],
   "source": [
    "def add(a,b):\n",
    "    return a+b"
   ]
  },
  {
   "cell_type": "code",
   "execution_count": 4,
   "id": "a22cc4de",
   "metadata": {},
   "outputs": [
    {
     "data": {
      "text/plain": [
       "167"
      ]
     },
     "execution_count": 4,
     "metadata": {},
     "output_type": "execute_result"
    }
   ],
   "source": [
    "add(78,89)"
   ]
  },
  {
   "cell_type": "code",
   "execution_count": 5,
   "id": "145b25ee",
   "metadata": {},
   "outputs": [],
   "source": [
    "x=lambda a,b: a+b"
   ]
  },
  {
   "cell_type": "code",
   "execution_count": 6,
   "id": "8ba07b25",
   "metadata": {},
   "outputs": [
    {
     "name": "stdout",
     "output_type": "stream",
     "text": [
      "101\n"
     ]
    }
   ],
   "source": [
    "print(x(45,56))"
   ]
  },
  {
   "cell_type": "code",
   "execution_count": 7,
   "id": "8d6ade62",
   "metadata": {},
   "outputs": [],
   "source": [
    "z=lambda x,y: x*y"
   ]
  },
  {
   "cell_type": "code",
   "execution_count": 8,
   "id": "4c8401ed",
   "metadata": {},
   "outputs": [
    {
     "data": {
      "text/plain": [
       "2025"
      ]
     },
     "execution_count": 8,
     "metadata": {},
     "output_type": "execute_result"
    }
   ],
   "source": [
    "z(45,45)"
   ]
  },
  {
   "cell_type": "markdown",
   "id": "5c667ea5",
   "metadata": {},
   "source": [
    "Built-in functions\n",
    "\n",
    "A\n",
    "\n",
    "abs()\n",
    "all()\n",
    "any()\n",
    "\n",
    "B\n",
    "\n",
    "bin()\n",
    "bool\n",
    "bytes\n",
    "bytearray()\n",
    "\n",
    "C\n",
    "\n",
    "callable()\n",
    "compile()\n",
    "complex()\n",
    "\n",
    "D\n",
    "\n",
    "dir()\n",
    "dict()\n",
    "delattr()\n",
    "\n",
    "E\n",
    "eval()\n",
    "exec()\n"
   ]
  },
  {
   "cell_type": "code",
   "execution_count": 9,
   "id": "d32e9f25",
   "metadata": {},
   "outputs": [],
   "source": [
    "a=[78,56,89,56,25,68,456]"
   ]
  },
  {
   "cell_type": "code",
   "execution_count": 10,
   "id": "53538d7b",
   "metadata": {},
   "outputs": [
    {
     "data": {
      "text/plain": [
       "[78, 56, 56, 68, 456]"
      ]
     },
     "execution_count": 10,
     "metadata": {},
     "output_type": "execute_result"
    }
   ],
   "source": [
    "x=filter(lambda x:x%2==0,a)\n",
    "list(x)"
   ]
  },
  {
   "cell_type": "code",
   "execution_count": 17,
   "id": "d07bdabd",
   "metadata": {},
   "outputs": [
    {
     "data": {
      "text/plain": [
       "[78, 56, 56, 68, 456]"
      ]
     },
     "execution_count": 17,
     "metadata": {},
     "output_type": "execute_result"
    }
   ],
   "source": [
    "def even(a):\n",
    "    if a%2==0:\n",
    "        return a\n",
    "x=filter(even,a)\n",
    "list(x)"
   ]
  },
  {
   "cell_type": "code",
   "execution_count": 18,
   "id": "a1c0c0c5",
   "metadata": {},
   "outputs": [],
   "source": [
    "d=[78.8,89,56,26,258,456,9]"
   ]
  },
  {
   "cell_type": "code",
   "execution_count": 19,
   "id": "34c090ae",
   "metadata": {},
   "outputs": [
    {
     "data": {
      "text/plain": [
       "[6209.44, 7921, 3136, 676, 66564, 207936, 81]"
      ]
     },
     "execution_count": 19,
     "metadata": {},
     "output_type": "execute_result"
    }
   ],
   "source": [
    "list(map(lambda x:x**2,))"
   ]
  },
  {
   "cell_type": "code",
   "execution_count": 20,
   "id": "ef22f26c",
   "metadata": {},
   "outputs": [],
   "source": [
    "class A:\n",
    "    def __init__(self,a):\n",
    "        self.a=a\n",
    "    def printme(self):\n",
    "        return self.a\n",
    "class b(A):\n",
    "    def __init__(self,a,b):\n",
    "        super().__init__(a)\n",
    "        self.b=b"
   ]
  },
  {
   "cell_type": "code",
   "execution_count": 21,
   "id": "9b198f08",
   "metadata": {},
   "outputs": [],
   "source": [
    "obj=b(\"hey\", \"python\")"
   ]
  },
  {
   "cell_type": "code",
   "execution_count": 25,
   "id": "b512e8f6",
   "metadata": {},
   "outputs": [
    {
     "data": {
      "text/plain": [
       "'hey'"
      ]
     },
     "execution_count": 25,
     "metadata": {},
     "output_type": "execute_result"
    }
   ],
   "source": [
    "obj.printme()"
   ]
  },
  {
   "cell_type": "code",
   "execution_count": 27,
   "id": "c792799a",
   "metadata": {},
   "outputs": [],
   "source": [
    "a=[1,2,3,4,5,6,7,8,9,10]"
   ]
  },
  {
   "cell_type": "code",
   "execution_count": 28,
   "id": "f2d76c97",
   "metadata": {},
   "outputs": [
    {
     "data": {
      "text/plain": [
       "[4, 16, 36, 64, 100]"
      ]
     },
     "execution_count": 28,
     "metadata": {},
     "output_type": "execute_result"
    }
   ],
   "source": [
    "a=[1,2,3,4,5,6,7,8,9,10]\n",
    "x=filter(lambda x:x%2==0,a)\n",
    "list(map(lambda z:z**2, x))"
   ]
  },
  {
   "cell_type": "code",
   "execution_count": 29,
   "id": "9e9200bd",
   "metadata": {},
   "outputs": [],
   "source": [
    "def even_sqr(a):\n",
    "    x=filter(lambda x:x%2==0,a)\n",
    "    return list(map(lambda z:z**2, x))"
   ]
  },
  {
   "cell_type": "code",
   "execution_count": 30,
   "id": "52967158",
   "metadata": {},
   "outputs": [
    {
     "data": {
      "text/plain": [
       "[4, 16, 36, 64, 100]"
      ]
     },
     "execution_count": 30,
     "metadata": {},
     "output_type": "execute_result"
    }
   ],
   "source": [
    "even_sqr(a)"
   ]
  },
  {
   "cell_type": "code",
   "execution_count": 31,
   "id": "722ae399",
   "metadata": {},
   "outputs": [],
   "source": [
    "import pandas as pd\n",
    "data=pd.read_csv('Bank_churn_modelling - Copy.csv')"
   ]
  },
  {
   "cell_type": "code",
   "execution_count": 32,
   "id": "d0869ea5",
   "metadata": {},
   "outputs": [
    {
     "data": {
      "text/html": [
       "<div>\n",
       "<style scoped>\n",
       "    .dataframe tbody tr th:only-of-type {\n",
       "        vertical-align: middle;\n",
       "    }\n",
       "\n",
       "    .dataframe tbody tr th {\n",
       "        vertical-align: top;\n",
       "    }\n",
       "\n",
       "    .dataframe thead th {\n",
       "        text-align: right;\n",
       "    }\n",
       "</style>\n",
       "<table border=\"1\" class=\"dataframe\">\n",
       "  <thead>\n",
       "    <tr style=\"text-align: right;\">\n",
       "      <th></th>\n",
       "      <th>RowNumber</th>\n",
       "      <th>CustomerId</th>\n",
       "      <th>Surname</th>\n",
       "      <th>CreditScore</th>\n",
       "      <th>Geography</th>\n",
       "      <th>Gender</th>\n",
       "      <th>Age</th>\n",
       "      <th>Tenure</th>\n",
       "      <th>Balance</th>\n",
       "      <th>NumOfProducts</th>\n",
       "      <th>HasCrCard</th>\n",
       "      <th>IsActiveMember</th>\n",
       "      <th>EstimatedSalary</th>\n",
       "      <th>Exited</th>\n",
       "    </tr>\n",
       "  </thead>\n",
       "  <tbody>\n",
       "    <tr>\n",
       "      <th>0</th>\n",
       "      <td>1</td>\n",
       "      <td>15634602</td>\n",
       "      <td>Hargrave</td>\n",
       "      <td>619</td>\n",
       "      <td>France</td>\n",
       "      <td>Female</td>\n",
       "      <td>42</td>\n",
       "      <td>2</td>\n",
       "      <td>0.00</td>\n",
       "      <td>1</td>\n",
       "      <td>1</td>\n",
       "      <td>1</td>\n",
       "      <td>101348.88</td>\n",
       "      <td>1</td>\n",
       "    </tr>\n",
       "    <tr>\n",
       "      <th>1</th>\n",
       "      <td>2</td>\n",
       "      <td>15647311</td>\n",
       "      <td>Hill</td>\n",
       "      <td>608</td>\n",
       "      <td>Spain</td>\n",
       "      <td>Female</td>\n",
       "      <td>41</td>\n",
       "      <td>1</td>\n",
       "      <td>83807.86</td>\n",
       "      <td>1</td>\n",
       "      <td>0</td>\n",
       "      <td>1</td>\n",
       "      <td>112542.58</td>\n",
       "      <td>0</td>\n",
       "    </tr>\n",
       "    <tr>\n",
       "      <th>2</th>\n",
       "      <td>3</td>\n",
       "      <td>15619304</td>\n",
       "      <td>Onio</td>\n",
       "      <td>502</td>\n",
       "      <td>France</td>\n",
       "      <td>Female</td>\n",
       "      <td>42</td>\n",
       "      <td>8</td>\n",
       "      <td>159660.80</td>\n",
       "      <td>3</td>\n",
       "      <td>1</td>\n",
       "      <td>0</td>\n",
       "      <td>113931.57</td>\n",
       "      <td>1</td>\n",
       "    </tr>\n",
       "    <tr>\n",
       "      <th>3</th>\n",
       "      <td>4</td>\n",
       "      <td>15701354</td>\n",
       "      <td>Boni</td>\n",
       "      <td>699</td>\n",
       "      <td>France</td>\n",
       "      <td>Female</td>\n",
       "      <td>39</td>\n",
       "      <td>1</td>\n",
       "      <td>0.00</td>\n",
       "      <td>2</td>\n",
       "      <td>0</td>\n",
       "      <td>0</td>\n",
       "      <td>93826.63</td>\n",
       "      <td>0</td>\n",
       "    </tr>\n",
       "    <tr>\n",
       "      <th>4</th>\n",
       "      <td>5</td>\n",
       "      <td>15737888</td>\n",
       "      <td>Mitchell</td>\n",
       "      <td>850</td>\n",
       "      <td>Spain</td>\n",
       "      <td>Female</td>\n",
       "      <td>43</td>\n",
       "      <td>2</td>\n",
       "      <td>125510.82</td>\n",
       "      <td>1</td>\n",
       "      <td>1</td>\n",
       "      <td>1</td>\n",
       "      <td>79084.10</td>\n",
       "      <td>0</td>\n",
       "    </tr>\n",
       "  </tbody>\n",
       "</table>\n",
       "</div>"
      ],
      "text/plain": [
       "   RowNumber  CustomerId   Surname  CreditScore Geography  Gender  Age  \\\n",
       "0          1    15634602  Hargrave          619    France  Female   42   \n",
       "1          2    15647311      Hill          608     Spain  Female   41   \n",
       "2          3    15619304      Onio          502    France  Female   42   \n",
       "3          4    15701354      Boni          699    France  Female   39   \n",
       "4          5    15737888  Mitchell          850     Spain  Female   43   \n",
       "\n",
       "   Tenure    Balance  NumOfProducts  HasCrCard  IsActiveMember  \\\n",
       "0       2       0.00              1          1               1   \n",
       "1       1   83807.86              1          0               1   \n",
       "2       8  159660.80              3          1               0   \n",
       "3       1       0.00              2          0               0   \n",
       "4       2  125510.82              1          1               1   \n",
       "\n",
       "   EstimatedSalary  Exited  \n",
       "0        101348.88       1  \n",
       "1        112542.58       0  \n",
       "2        113931.57       1  \n",
       "3         93826.63       0  \n",
       "4         79084.10       0  "
      ]
     },
     "execution_count": 32,
     "metadata": {},
     "output_type": "execute_result"
    }
   ],
   "source": [
    "data.head()"
   ]
  },
  {
   "cell_type": "code",
   "execution_count": 33,
   "id": "19f04406",
   "metadata": {},
   "outputs": [],
   "source": [
    "# modules - python file .py\n",
    "\n",
    "import os"
   ]
  },
  {
   "cell_type": "code",
   "execution_count": 34,
   "id": "615374dd",
   "metadata": {},
   "outputs": [
    {
     "data": {
      "text/plain": [
       "'/Users/jude/Documents/fm_training'"
      ]
     },
     "execution_count": 34,
     "metadata": {},
     "output_type": "execute_result"
    }
   ],
   "source": [
    "os.getcwd()"
   ]
  },
  {
   "cell_type": "code",
   "execution_count": 35,
   "id": "7e3398db",
   "metadata": {},
   "outputs": [
    {
     "name": "stdout",
     "output_type": "stream",
     "text": [
      "Writing my_module.py\n"
     ]
    }
   ],
   "source": [
    "%%writefile my_module.py\n",
    "\n",
    "def add(a,b):\n",
    "    \"\"\"this program adds two numbers and returns the final result\"\"\"\n",
    "    result = a+b\n",
    "    return result\n",
    "\n",
    "def multiply(a,b):\n",
    "    \"\"\"this program multiplies two numbers and returns the final result\"\"\"\n",
    "    result = a*b\n",
    "    return result"
   ]
  },
  {
   "cell_type": "code",
   "execution_count": 36,
   "id": "581740d9",
   "metadata": {},
   "outputs": [],
   "source": [
    "import my_module as mm"
   ]
  },
  {
   "cell_type": "code",
   "execution_count": 37,
   "id": "17b54407",
   "metadata": {},
   "outputs": [
    {
     "data": {
      "text/plain": [
       "90"
      ]
     },
     "execution_count": 37,
     "metadata": {},
     "output_type": "execute_result"
    }
   ],
   "source": [
    "mm.add(45,45)"
   ]
  },
  {
   "cell_type": "code",
   "execution_count": 38,
   "id": "1d5f60bc",
   "metadata": {},
   "outputs": [],
   "source": [
    "from my_module import add"
   ]
  },
  {
   "cell_type": "code",
   "execution_count": 39,
   "id": "81221abc",
   "metadata": {},
   "outputs": [
    {
     "data": {
      "text/plain": [
       "90"
      ]
     },
     "execution_count": 39,
     "metadata": {},
     "output_type": "execute_result"
    }
   ],
   "source": [
    "add(45,45)"
   ]
  },
  {
   "cell_type": "code",
   "execution_count": 40,
   "id": "84f6211b",
   "metadata": {},
   "outputs": [],
   "source": [
    "from my_module import *"
   ]
  },
  {
   "cell_type": "code",
   "execution_count": 41,
   "id": "ccfb551c",
   "metadata": {},
   "outputs": [
    {
     "data": {
      "text/plain": [
       "2025"
      ]
     },
     "execution_count": 41,
     "metadata": {},
     "output_type": "execute_result"
    }
   ],
   "source": [
    "multiply(45,45)"
   ]
  },
  {
   "cell_type": "code",
   "execution_count": 47,
   "id": "b26f7832",
   "metadata": {},
   "outputs": [
    {
     "name": "stdout",
     "output_type": "stream",
     "text": [
      "[4525.25, True, 'new', 'data', 45, 45, 78]\n"
     ]
    }
   ],
   "source": [
    "output = []\n",
    "data = [78,45,45,'data','new',True,4525.25]\n",
    "for x in data[::-1]:\n",
    "    output.append(x)\n",
    "print(output)"
   ]
  },
  {
   "cell_type": "code",
   "execution_count": 49,
   "id": "630711a4",
   "metadata": {},
   "outputs": [
    {
     "name": "stdout",
     "output_type": "stream",
     "text": [
      "[45, 45, 78, 4525.25]\n"
     ]
    }
   ],
   "source": [
    "def sort(a):\n",
    "    b=[]\n",
    "    c=[]\n",
    "    for i in range(len(a)):\n",
    "        if type(a[i]) is int or type(a[i]) is float:\n",
    "            b.append(a[i])\n",
    "    for i in range(len(b)):\n",
    "        c.append(min(b))\n",
    "        b.remove(min(b))\n",
    "    return c\n",
    "print(sort(data))\n",
    "        "
   ]
  },
  {
   "cell_type": "code",
   "execution_count": 53,
   "id": "f617787d",
   "metadata": {},
   "outputs": [],
   "source": [
    "data=[4525.25,True,'new','data',45,45,78]\n",
    "while data:\n",
    "    out=[]\n",
    "    mv=data[0]\n",
    "    for i in data:\n",
    "        if str(i).isalpha():\n",
    "            pass\n",
    "        else:\n",
    "            if i<mv:\n",
    "                mv=i\n",
    "    out.append(mv)\n",
    "    data.remove(mv)"
   ]
  },
  {
   "cell_type": "code",
   "execution_count": null,
   "id": "4a8e3aa1",
   "metadata": {},
   "outputs": [],
   "source": [
    "# exception handling in python\n",
    "\n",
    "# try:\n",
    "\n",
    "# except:\n",
    "\n",
    "# else:\n",
    "\n",
    "# finally:"
   ]
  },
  {
   "cell_type": "code",
   "execution_count": 54,
   "id": "76dfb934",
   "metadata": {},
   "outputs": [
    {
     "name": "stdout",
     "output_type": "stream",
     "text": [
      "enter a value5\n",
      "enter b value0\n"
     ]
    },
    {
     "ename": "ZeroDivisionError",
     "evalue": "division by zero",
     "output_type": "error",
     "traceback": [
      "\u001b[0;31m---------------------------------------------------------------------------\u001b[0m",
      "\u001b[0;31mZeroDivisionError\u001b[0m                         Traceback (most recent call last)",
      "Input \u001b[0;32mIn [54]\u001b[0m, in \u001b[0;36m<cell line: 3>\u001b[0;34m()\u001b[0m\n\u001b[1;32m      1\u001b[0m a\u001b[38;5;241m=\u001b[39m\u001b[38;5;28mint\u001b[39m(\u001b[38;5;28minput\u001b[39m(\u001b[38;5;124m'\u001b[39m\u001b[38;5;124menter a value\u001b[39m\u001b[38;5;124m'\u001b[39m))\n\u001b[1;32m      2\u001b[0m b\u001b[38;5;241m=\u001b[39m\u001b[38;5;28mint\u001b[39m(\u001b[38;5;28minput\u001b[39m(\u001b[38;5;124m'\u001b[39m\u001b[38;5;124menter b value\u001b[39m\u001b[38;5;124m'\u001b[39m))\n\u001b[0;32m----> 3\u001b[0m \u001b[38;5;28mprint\u001b[39m(\u001b[43ma\u001b[49m\u001b[38;5;241;43m/\u001b[39;49m\u001b[43mb\u001b[49m)\n\u001b[1;32m      4\u001b[0m \u001b[38;5;28mprint\u001b[39m(\u001b[38;5;124m'\u001b[39m\u001b[38;5;124mdone\u001b[39m\u001b[38;5;124m'\u001b[39m)\n",
      "\u001b[0;31mZeroDivisionError\u001b[0m: division by zero"
     ]
    }
   ],
   "source": [
    "a=int(input('enter a value'))\n",
    "b=int(input('enter b value'))\n",
    "print(a/b)\n",
    "print('done')"
   ]
  },
  {
   "cell_type": "code",
   "execution_count": 55,
   "id": "c8d0bef6",
   "metadata": {},
   "outputs": [
    {
     "name": "stdout",
     "output_type": "stream",
     "text": [
      "enter a value5\n",
      "enter b value0\n",
      "some exception\n"
     ]
    }
   ],
   "source": [
    "a=int(input(\"enter a value\"))\n",
    "b=int(input(\"enter b value\"))\n",
    "try:\n",
    "    print(a/b)\n",
    "except:\n",
    "    print(\"some exception\")"
   ]
  },
  {
   "cell_type": "code",
   "execution_count": 56,
   "id": "4989dd16",
   "metadata": {},
   "outputs": [
    {
     "name": "stdout",
     "output_type": "stream",
     "text": [
      "enter a value5\n",
      "enter b value0\n",
      "some exception\n"
     ]
    }
   ],
   "source": [
    "a=int(input(\"enter a value\"))\n",
    "b=int(input(\"enter b value\"))\n",
    "try:\n",
    "    c=a/b\n",
    "except:\n",
    "    print(\"some exception\")"
   ]
  },
  {
   "cell_type": "code",
   "execution_count": 57,
   "id": "cf017e38",
   "metadata": {},
   "outputs": [
    {
     "name": "stdout",
     "output_type": "stream",
     "text": [
      "enter a value45\n",
      "enter b value5\n",
      "9.0\n",
      "no exception\n"
     ]
    }
   ],
   "source": [
    "a=int(input(\"enter a value\"))\n",
    "b=int(input(\"enter b value\"))\n",
    "try:\n",
    "    c=a/b\n",
    "except:\n",
    "    print(\"some exception\")\n",
    "else:\n",
    "    print(c)\n",
    "    print(\"no exception\")"
   ]
  },
  {
   "cell_type": "code",
   "execution_count": 58,
   "id": "495a5b57",
   "metadata": {},
   "outputs": [
    {
     "name": "stdout",
     "output_type": "stream",
     "text": [
      "enter a value4607\n",
      "enter b value753\n",
      "6.1181938911022575\n",
      "no exception\n",
      "result:  3469071\n"
     ]
    }
   ],
   "source": [
    "a=int(input(\"enter a value\"))\n",
    "b=int(input(\"enter b value\"))\n",
    "try:\n",
    "    c=a/b\n",
    "except:\n",
    "    print(\"some exception\")\n",
    "else:\n",
    "    print(c)\n",
    "    print(\"no exception\")\n",
    "finally:\n",
    "    d=a*b\n",
    "    print(\"result: \",d)"
   ]
  },
  {
   "cell_type": "code",
   "execution_count": 62,
   "id": "6f785da8",
   "metadata": {},
   "outputs": [
    {
     "name": "stdout",
     "output_type": "stream",
     "text": [
      "enter a value7654\n",
      "enter b value77\n"
     ]
    },
    {
     "ename": "Exception",
     "evalue": "some exception",
     "output_type": "error",
     "traceback": [
      "\u001b[0;31m---------------------------------------------------------------------------\u001b[0m",
      "\u001b[0;31mException\u001b[0m                                 Traceback (most recent call last)",
      "Input \u001b[0;32mIn [62]\u001b[0m, in \u001b[0;36m<cell line: 3>\u001b[0;34m()\u001b[0m\n\u001b[1;32m      4\u001b[0m     \u001b[38;5;28mprint\u001b[39m(a\u001b[38;5;241m*\u001b[39mb)\n\u001b[1;32m      5\u001b[0m \u001b[38;5;28;01melse\u001b[39;00m:\n\u001b[0;32m----> 6\u001b[0m     \u001b[38;5;28;01mraise\u001b[39;00m \u001b[38;5;167;01mException\u001b[39;00m(\u001b[38;5;124m\"\u001b[39m\u001b[38;5;124msome exception\u001b[39m\u001b[38;5;124m\"\u001b[39m)\n",
      "\u001b[0;31mException\u001b[0m: some exception"
     ]
    }
   ],
   "source": [
    "a=int(input(\"enter a value\"))\n",
    "b=int(input(\"enter b value\"))\n",
    "if a<b:\n",
    "    print(a*b)\n",
    "else:\n",
    "    raise Exception(\"some exception\")"
   ]
  },
  {
   "cell_type": "code",
   "execution_count": 63,
   "id": "bf4c78e9",
   "metadata": {},
   "outputs": [],
   "source": [
    "# list comprehension in python"
   ]
  },
  {
   "cell_type": "code",
   "execution_count": 64,
   "id": "f69aad4b",
   "metadata": {},
   "outputs": [],
   "source": [
    "# [Expression for item in iterable]"
   ]
  },
  {
   "cell_type": "code",
   "execution_count": 65,
   "id": "be0cd633",
   "metadata": {},
   "outputs": [],
   "source": [
    "a=[78,45,56,25,48,8995,65,20,2]"
   ]
  },
  {
   "cell_type": "code",
   "execution_count": 66,
   "id": "bb6901b6",
   "metadata": {},
   "outputs": [
    {
     "name": "stdout",
     "output_type": "stream",
     "text": [
      "[78, 56, 48, 20, 2]\n"
     ]
    }
   ],
   "source": [
    "out=[]\n",
    "for i in a:\n",
    "    if i%2==0:\n",
    "        out.append(i)\n",
    "print(out)"
   ]
  },
  {
   "cell_type": "code",
   "execution_count": 67,
   "id": "379c18bf",
   "metadata": {},
   "outputs": [
    {
     "data": {
      "text/plain": [
       "[78, 56, 48, 20, 2]"
      ]
     },
     "execution_count": 67,
     "metadata": {},
     "output_type": "execute_result"
    }
   ],
   "source": [
    "[i for i in a if i%2==0]"
   ]
  },
  {
   "cell_type": "code",
   "execution_count": 68,
   "id": "dea2fa30",
   "metadata": {},
   "outputs": [],
   "source": [
    "a=[5,2,6,8,9,7]"
   ]
  },
  {
   "cell_type": "code",
   "execution_count": 69,
   "id": "b0de1ad7",
   "metadata": {},
   "outputs": [
    {
     "data": {
      "text/plain": [
       "[25, 4, 36, 64, 81, 49]"
      ]
     },
     "execution_count": 69,
     "metadata": {},
     "output_type": "execute_result"
    }
   ],
   "source": [
    "[i**2 for i in a]"
   ]
  },
  {
   "cell_type": "code",
   "execution_count": 70,
   "id": "4da10637",
   "metadata": {},
   "outputs": [],
   "source": [
    "import random"
   ]
  },
  {
   "cell_type": "code",
   "execution_count": 71,
   "id": "08352e87",
   "metadata": {},
   "outputs": [
    {
     "data": {
      "text/plain": [
       "39"
      ]
     },
     "execution_count": 71,
     "metadata": {},
     "output_type": "execute_result"
    }
   ],
   "source": [
    "random.randint(20,60)"
   ]
  },
  {
   "cell_type": "code",
   "execution_count": 72,
   "id": "9c698881",
   "metadata": {},
   "outputs": [],
   "source": [
    "list=[78,89.5,'data',45,True]"
   ]
  },
  {
   "cell_type": "code",
   "execution_count": 73,
   "id": "59b9cdfb",
   "metadata": {},
   "outputs": [
    {
     "data": {
      "text/plain": [
       "78"
      ]
     },
     "execution_count": 73,
     "metadata": {},
     "output_type": "execute_result"
    }
   ],
   "source": [
    "random.choice(list)"
   ]
  },
  {
   "cell_type": "code",
   "execution_count": 74,
   "id": "e41abdb5",
   "metadata": {},
   "outputs": [],
   "source": [
    "# Decorators in Python"
   ]
  },
  {
   "cell_type": "code",
   "execution_count": 82,
   "id": "16290eee",
   "metadata": {},
   "outputs": [],
   "source": [
    "def outer_function():\n",
    "    def inner_function():\n",
    "        print(\"i came from inner function\")\n",
    "    return inner_function()"
   ]
  },
  {
   "cell_type": "code",
   "execution_count": 83,
   "id": "2ea15d09",
   "metadata": {},
   "outputs": [
    {
     "name": "stdout",
     "output_type": "stream",
     "text": [
      "i came from inner function\n"
     ]
    }
   ],
   "source": [
    "outer_function()"
   ]
  },
  {
   "cell_type": "code",
   "execution_count": 87,
   "id": "d220a7d3",
   "metadata": {},
   "outputs": [],
   "source": [
    "def main_function(func):\n",
    "    func()\n",
    "    print('main_function')"
   ]
  },
  {
   "cell_type": "code",
   "execution_count": 88,
   "id": "075d0435",
   "metadata": {},
   "outputs": [],
   "source": [
    "def action():\n",
    "    print('new_function')"
   ]
  },
  {
   "cell_type": "code",
   "execution_count": 89,
   "id": "a758a25a",
   "metadata": {},
   "outputs": [
    {
     "name": "stdout",
     "output_type": "stream",
     "text": [
      "new_function\n",
      "main_function\n"
     ]
    }
   ],
   "source": [
    "main_function(action)"
   ]
  },
  {
   "cell_type": "code",
   "execution_count": 90,
   "id": "92807699",
   "metadata": {},
   "outputs": [],
   "source": [
    "def multi(x):\n",
    "    return x*3.14\n",
    "def divide(x):\n",
    "    return x/3.14\n",
    "def operate(fun,x):\n",
    "    number=fun(x)\n",
    "    return number"
   ]
  },
  {
   "cell_type": "code",
   "execution_count": 91,
   "id": "627a20f9",
   "metadata": {},
   "outputs": [
    {
     "data": {
      "text/plain": [
       "141.3"
      ]
     },
     "execution_count": 91,
     "metadata": {},
     "output_type": "execute_result"
    }
   ],
   "source": [
    "operate(multi,45)"
   ]
  },
  {
   "cell_type": "code",
   "execution_count": null,
   "id": "3bba5fff",
   "metadata": {},
   "outputs": [],
   "source": []
  }
 ],
 "metadata": {
  "kernelspec": {
   "display_name": "Python 3 (ipykernel)",
   "language": "python",
   "name": "python3"
  },
  "language_info": {
   "codemirror_mode": {
    "name": "ipython",
    "version": 3
   },
   "file_extension": ".py",
   "mimetype": "text/x-python",
   "name": "python",
   "nbconvert_exporter": "python",
   "pygments_lexer": "ipython3",
   "version": "3.9.12"
  }
 },
 "nbformat": 4,
 "nbformat_minor": 5
}
