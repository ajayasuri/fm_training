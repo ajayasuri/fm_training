{
 "cells": [
  {
   "cell_type": "markdown",
   "id": "a1b54f9b",
   "metadata": {},
   "source": [
    "### Numpy"
   ]
  },
  {
   "cell_type": "code",
   "execution_count": 1,
   "id": "a93191e8",
   "metadata": {},
   "outputs": [],
   "source": [
    "import numpy as np"
   ]
  },
  {
   "cell_type": "code",
   "execution_count": 2,
   "id": "a39f0614",
   "metadata": {},
   "outputs": [
    {
     "name": "stdout",
     "output_type": "stream",
     "text": [
      "1.21.5\n"
     ]
    }
   ],
   "source": [
    "print(np.__version__)"
   ]
  },
  {
   "cell_type": "code",
   "execution_count": 3,
   "id": "90a5bd50",
   "metadata": {},
   "outputs": [],
   "source": [
    "data=np.array([450,650,782,856,452,365,400,500,656])"
   ]
  },
  {
   "cell_type": "code",
   "execution_count": 4,
   "id": "e7f3c5e3",
   "metadata": {},
   "outputs": [
    {
     "data": {
      "text/plain": [
       "numpy.ndarray"
      ]
     },
     "execution_count": 4,
     "metadata": {},
     "output_type": "execute_result"
    }
   ],
   "source": [
    "type(data)"
   ]
  },
  {
   "cell_type": "code",
   "execution_count": 5,
   "id": "639c17fd",
   "metadata": {},
   "outputs": [
    {
     "data": {
      "text/plain": [
       "1"
      ]
     },
     "execution_count": 5,
     "metadata": {},
     "output_type": "execute_result"
    }
   ],
   "source": [
    "data.ndim"
   ]
  },
  {
   "cell_type": "code",
   "execution_count": 9,
   "id": "2f207271",
   "metadata": {},
   "outputs": [],
   "source": [
    "data=np.array([[784,78569],[850,568956],[400,85746]])"
   ]
  },
  {
   "cell_type": "code",
   "execution_count": 10,
   "id": "c0e388f2",
   "metadata": {},
   "outputs": [
    {
     "data": {
      "text/plain": [
       "array([[   784,  78569],\n",
       "       [   850, 568956],\n",
       "       [   400,  85746]])"
      ]
     },
     "execution_count": 10,
     "metadata": {},
     "output_type": "execute_result"
    }
   ],
   "source": [
    "data"
   ]
  },
  {
   "cell_type": "code",
   "execution_count": 11,
   "id": "b856824d",
   "metadata": {},
   "outputs": [
    {
     "data": {
      "text/plain": [
       "2"
      ]
     },
     "execution_count": 11,
     "metadata": {},
     "output_type": "execute_result"
    }
   ],
   "source": [
    "data.ndim"
   ]
  },
  {
   "cell_type": "code",
   "execution_count": 12,
   "id": "c795ffe0",
   "metadata": {},
   "outputs": [
    {
     "data": {
      "text/plain": [
       "(3, 2)"
      ]
     },
     "execution_count": 12,
     "metadata": {},
     "output_type": "execute_result"
    }
   ],
   "source": [
    "data.shape"
   ]
  },
  {
   "cell_type": "code",
   "execution_count": 14,
   "id": "add7c474",
   "metadata": {},
   "outputs": [
    {
     "data": {
      "text/plain": [
       "dtype('int64')"
      ]
     },
     "execution_count": 14,
     "metadata": {},
     "output_type": "execute_result"
    }
   ],
   "source": [
    "data.dtype"
   ]
  },
  {
   "cell_type": "code",
   "execution_count": 15,
   "id": "c115c96b",
   "metadata": {},
   "outputs": [
    {
     "data": {
      "text/plain": [
       "array([[7.84000e+02, 7.85690e+04],\n",
       "       [8.50000e+02, 5.68956e+05],\n",
       "       [4.00000e+02, 8.57460e+04]])"
      ]
     },
     "execution_count": 15,
     "metadata": {},
     "output_type": "execute_result"
    }
   ],
   "source": [
    "data.astype('float')"
   ]
  },
  {
   "cell_type": "code",
   "execution_count": 17,
   "id": "56410981",
   "metadata": {},
   "outputs": [
    {
     "name": "stdout",
     "output_type": "stream",
     "text": [
      "\u001b[31mERROR: Could not find a version that satisfies the requirement cv2 (from versions: none)\u001b[0m\r\n",
      "\u001b[31mERROR: No matching distribution found for cv2\u001b[0m\r\n"
     ]
    }
   ],
   "source": [
    "!pip install cv2"
   ]
  },
  {
   "cell_type": "code",
   "execution_count": 18,
   "id": "9e12fb48",
   "metadata": {},
   "outputs": [
    {
     "name": "stdout",
     "output_type": "stream",
     "text": [
      "Collecting opencv-python\n",
      "  Downloading opencv_python-4.6.0.66-cp36-abi3-macosx_10_15_x86_64.whl (46.4 MB)\n",
      "\u001b[K     |████████████████████████████████| 46.4 MB 1.2 MB/s eta 0:00:012\n",
      "\u001b[?25hRequirement already satisfied: numpy>=1.17.3 in /Users/jude/opt/anaconda3/lib/python3.9/site-packages (from opencv-python) (1.21.5)\n",
      "Installing collected packages: opencv-python\n",
      "Successfully installed opencv-python-4.6.0.66\n"
     ]
    }
   ],
   "source": [
    "!pip install opencv-python"
   ]
  },
  {
   "cell_type": "code",
   "execution_count": 19,
   "id": "14fcacca",
   "metadata": {},
   "outputs": [],
   "source": [
    "data=np.array([[784,78569],[850,568956],[400,85746]])"
   ]
  },
  {
   "cell_type": "code",
   "execution_count": 20,
   "id": "6399cfa7",
   "metadata": {},
   "outputs": [
    {
     "data": {
      "text/plain": [
       "array([  784, 78569])"
      ]
     },
     "execution_count": 20,
     "metadata": {},
     "output_type": "execute_result"
    }
   ],
   "source": [
    "data[0,:]"
   ]
  },
  {
   "cell_type": "code",
   "execution_count": 21,
   "id": "e4f90463",
   "metadata": {},
   "outputs": [
    {
     "data": {
      "text/plain": [
       "array([ 78569, 568956,  85746])"
      ]
     },
     "execution_count": 21,
     "metadata": {},
     "output_type": "execute_result"
    }
   ],
   "source": [
    "data[:,1]"
   ]
  },
  {
   "cell_type": "code",
   "execution_count": 23,
   "id": "4505d8d1",
   "metadata": {},
   "outputs": [
    {
     "data": {
      "text/plain": [
       "784"
      ]
     },
     "execution_count": 23,
     "metadata": {},
     "output_type": "execute_result"
    }
   ],
   "source": [
    "data[0,0]"
   ]
  },
  {
   "cell_type": "code",
   "execution_count": 24,
   "id": "010dc52f",
   "metadata": {},
   "outputs": [
    {
     "data": {
      "text/plain": [
       "85746"
      ]
     },
     "execution_count": 24,
     "metadata": {},
     "output_type": "execute_result"
    }
   ],
   "source": [
    "data[2,1]"
   ]
  },
  {
   "cell_type": "code",
   "execution_count": 26,
   "id": "3d137d00",
   "metadata": {},
   "outputs": [],
   "source": [
    "import pandas as pd"
   ]
  },
  {
   "cell_type": "code",
   "execution_count": 27,
   "id": "32db5ef4",
   "metadata": {},
   "outputs": [],
   "source": [
    "df=pd.DataFrame(data)"
   ]
  },
  {
   "cell_type": "code",
   "execution_count": 28,
   "id": "de6f4474",
   "metadata": {},
   "outputs": [
    {
     "data": {
      "text/html": [
       "<div>\n",
       "<style scoped>\n",
       "    .dataframe tbody tr th:only-of-type {\n",
       "        vertical-align: middle;\n",
       "    }\n",
       "\n",
       "    .dataframe tbody tr th {\n",
       "        vertical-align: top;\n",
       "    }\n",
       "\n",
       "    .dataframe thead th {\n",
       "        text-align: right;\n",
       "    }\n",
       "</style>\n",
       "<table border=\"1\" class=\"dataframe\">\n",
       "  <thead>\n",
       "    <tr style=\"text-align: right;\">\n",
       "      <th></th>\n",
       "      <th>0</th>\n",
       "      <th>1</th>\n",
       "    </tr>\n",
       "  </thead>\n",
       "  <tbody>\n",
       "    <tr>\n",
       "      <th>0</th>\n",
       "      <td>784</td>\n",
       "      <td>78569</td>\n",
       "    </tr>\n",
       "    <tr>\n",
       "      <th>1</th>\n",
       "      <td>850</td>\n",
       "      <td>568956</td>\n",
       "    </tr>\n",
       "    <tr>\n",
       "      <th>2</th>\n",
       "      <td>400</td>\n",
       "      <td>85746</td>\n",
       "    </tr>\n",
       "  </tbody>\n",
       "</table>\n",
       "</div>"
      ],
      "text/plain": [
       "     0       1\n",
       "0  784   78569\n",
       "1  850  568956\n",
       "2  400   85746"
      ]
     },
     "execution_count": 28,
     "metadata": {},
     "output_type": "execute_result"
    }
   ],
   "source": [
    "df"
   ]
  },
  {
   "cell_type": "code",
   "execution_count": 30,
   "id": "36601cec",
   "metadata": {},
   "outputs": [],
   "source": [
    "dfsum=df.sum(axis=1)"
   ]
  },
  {
   "cell_type": "code",
   "execution_count": 31,
   "id": "5704c803",
   "metadata": {},
   "outputs": [
    {
     "data": {
      "text/plain": [
       "0     79353\n",
       "1    569806\n",
       "2     86146\n",
       "dtype: int64"
      ]
     },
     "execution_count": 31,
     "metadata": {},
     "output_type": "execute_result"
    }
   ],
   "source": [
    "dfsum"
   ]
  },
  {
   "cell_type": "code",
   "execution_count": 32,
   "id": "b68e0fbd",
   "metadata": {},
   "outputs": [],
   "source": [
    "import cv2"
   ]
  },
  {
   "cell_type": "code",
   "execution_count": 34,
   "id": "a02f0080",
   "metadata": {},
   "outputs": [],
   "source": [
    "#img=cv2.imread(\"\")"
   ]
  },
  {
   "cell_type": "code",
   "execution_count": 35,
   "id": "66c7dac2",
   "metadata": {},
   "outputs": [
    {
     "data": {
      "text/plain": [
       "0     39676.5\n",
       "1    284903.0\n",
       "2     43073.0\n",
       "dtype: float64"
      ]
     },
     "execution_count": 35,
     "metadata": {},
     "output_type": "execute_result"
    }
   ],
   "source": [
    "df.mean(axis=1)"
   ]
  },
  {
   "cell_type": "code",
   "execution_count": 36,
   "id": "4ef20f07",
   "metadata": {},
   "outputs": [
    {
     "data": {
      "text/plain": [
       "0     79353\n",
       "1    569806\n",
       "2     86146\n",
       "dtype: int64"
      ]
     },
     "execution_count": 36,
     "metadata": {},
     "output_type": "execute_result"
    }
   ],
   "source": [
    "df.sum(axis=1)"
   ]
  },
  {
   "cell_type": "code",
   "execution_count": 37,
   "id": "24634e2b",
   "metadata": {},
   "outputs": [
    {
     "data": {
      "text/plain": [
       "array([   850, 568956])"
      ]
     },
     "execution_count": 37,
     "metadata": {},
     "output_type": "execute_result"
    }
   ],
   "source": [
    "data.max(axis=0)"
   ]
  },
  {
   "cell_type": "code",
   "execution_count": 38,
   "id": "5e144e6c",
   "metadata": {},
   "outputs": [
    {
     "data": {
      "text/plain": [
       "array([ 78569, 568956,  85746])"
      ]
     },
     "execution_count": 38,
     "metadata": {},
     "output_type": "execute_result"
    }
   ],
   "source": [
    "data.max(axis=1)"
   ]
  },
  {
   "cell_type": "code",
   "execution_count": 39,
   "id": "a3dde827",
   "metadata": {},
   "outputs": [
    {
     "data": {
      "text/plain": [
       "array([[   784,  78569],\n",
       "       [   850, 568956],\n",
       "       [   400,  85746]])"
      ]
     },
     "execution_count": 39,
     "metadata": {},
     "output_type": "execute_result"
    }
   ],
   "source": [
    "data"
   ]
  },
  {
   "cell_type": "code",
   "execution_count": 40,
   "id": "b9606b76",
   "metadata": {},
   "outputs": [
    {
     "data": {
      "text/plain": [
       "(3, 2)"
      ]
     },
     "execution_count": 40,
     "metadata": {},
     "output_type": "execute_result"
    }
   ],
   "source": [
    "data.shape"
   ]
  },
  {
   "cell_type": "code",
   "execution_count": 41,
   "id": "6d12e707",
   "metadata": {},
   "outputs": [
    {
     "data": {
      "text/plain": [
       "array([[   784,  78569,    850],\n",
       "       [568956,    400,  85746]])"
      ]
     },
     "execution_count": 41,
     "metadata": {},
     "output_type": "execute_result"
    }
   ],
   "source": [
    "data.reshape(2,3)"
   ]
  },
  {
   "cell_type": "code",
   "execution_count": 42,
   "id": "21b7f4b8",
   "metadata": {},
   "outputs": [
    {
     "data": {
      "text/plain": [
       "array([[   784,  78569,    850, 568956,    400,  85746]])"
      ]
     },
     "execution_count": 42,
     "metadata": {},
     "output_type": "execute_result"
    }
   ],
   "source": [
    "data.reshape(1,6)"
   ]
  },
  {
   "cell_type": "code",
   "execution_count": 43,
   "id": "3ec9837a",
   "metadata": {},
   "outputs": [
    {
     "data": {
      "text/plain": [
       "array([[   784,  78569],\n",
       "       [   850, 568956],\n",
       "       [   400,  85746]])"
      ]
     },
     "execution_count": 43,
     "metadata": {},
     "output_type": "execute_result"
    }
   ],
   "source": [
    "data"
   ]
  },
  {
   "cell_type": "code",
   "execution_count": 44,
   "id": "2b656f87",
   "metadata": {},
   "outputs": [
    {
     "data": {
      "text/plain": [
       "array([[   784,  78569,    850],\n",
       "       [568956,    400,  85746],\n",
       "       [   784,  78569,    850]])"
      ]
     },
     "execution_count": 44,
     "metadata": {},
     "output_type": "execute_result"
    }
   ],
   "source": [
    "np.resize(data,(3,3))"
   ]
  },
  {
   "cell_type": "code",
   "execution_count": 46,
   "id": "f29240d6",
   "metadata": {},
   "outputs": [
    {
     "data": {
      "text/plain": [
       "array([   784,  78569,    850, 568956,    400,  85746])"
      ]
     },
     "execution_count": 46,
     "metadata": {},
     "output_type": "execute_result"
    }
   ],
   "source": [
    "data.flatten()"
   ]
  },
  {
   "cell_type": "code",
   "execution_count": 47,
   "id": "b01944d8",
   "metadata": {},
   "outputs": [
    {
     "data": {
      "text/plain": [
       "[[784, 78569], [850, 568956], [400, 85746]]"
      ]
     },
     "execution_count": 47,
     "metadata": {},
     "output_type": "execute_result"
    }
   ],
   "source": [
    "data.tolist()"
   ]
  },
  {
   "cell_type": "code",
   "execution_count": 48,
   "id": "c6f7c0fe",
   "metadata": {},
   "outputs": [
    {
     "data": {
      "text/plain": [
       "array([[10, 13, 13,  0],\n",
       "       [14, 35, 43, 32],\n",
       "       [14, 17, 18, 38],\n",
       "       [42, 32, 43, 42]])"
      ]
     },
     "execution_count": 48,
     "metadata": {},
     "output_type": "execute_result"
    }
   ],
   "source": [
    "np.random.randint(45, size=(4,4))"
   ]
  },
  {
   "cell_type": "code",
   "execution_count": 50,
   "id": "6e29eea6",
   "metadata": {},
   "outputs": [
    {
     "data": {
      "text/plain": [
       "array([0.10260353, 0.56241526, 0.25649767, 0.32810502, 0.9750885 ])"
      ]
     },
     "execution_count": 50,
     "metadata": {},
     "output_type": "execute_result"
    }
   ],
   "source": [
    "np.random.rand(5)"
   ]
  },
  {
   "cell_type": "code",
   "execution_count": 51,
   "id": "7e0a61b7",
   "metadata": {},
   "outputs": [
    {
     "data": {
      "text/plain": [
       "array([[0.38172235, 0.7819191 , 0.7521502 , 0.91221315],\n",
       "       [0.52709582, 0.79170061, 0.48295136, 0.08672396],\n",
       "       [0.75522317, 0.41492002, 0.25535804, 0.86941789],\n",
       "       [0.82219432, 0.12787155, 0.43392798, 0.41256209]])"
      ]
     },
     "execution_count": 51,
     "metadata": {},
     "output_type": "execute_result"
    }
   ],
   "source": [
    "np.random.rand(4,4)"
   ]
  },
  {
   "cell_type": "code",
   "execution_count": 56,
   "id": "4ce064e0",
   "metadata": {},
   "outputs": [
    {
     "data": {
      "text/plain": [
       "array([[0., 0., 0., 0., 0.],\n",
       "       [0., 0., 0., 0., 0.],\n",
       "       [0., 0., 0., 0., 0.],\n",
       "       [0., 0., 0., 0., 0.],\n",
       "       [0., 0., 0., 0., 0.]])"
      ]
     },
     "execution_count": 56,
     "metadata": {},
     "output_type": "execute_result"
    }
   ],
   "source": [
    "np.zeros((5,5))"
   ]
  },
  {
   "cell_type": "code",
   "execution_count": 57,
   "id": "389344c1",
   "metadata": {},
   "outputs": [
    {
     "data": {
      "text/plain": [
       "array([[1., 1., 1., 1., 1., 1.],\n",
       "       [1., 1., 1., 1., 1., 1.],\n",
       "       [1., 1., 1., 1., 1., 1.],\n",
       "       [1., 1., 1., 1., 1., 1.]])"
      ]
     },
     "execution_count": 57,
     "metadata": {},
     "output_type": "execute_result"
    }
   ],
   "source": [
    "np.ones((4,6))"
   ]
  },
  {
   "cell_type": "code",
   "execution_count": 58,
   "id": "43cf21d7",
   "metadata": {},
   "outputs": [],
   "source": [
    "data1=np.array([[574546,543435,677688],[79325,68593,6975],[152,534,2766]])"
   ]
  },
  {
   "cell_type": "code",
   "execution_count": 59,
   "id": "06ebc23c",
   "metadata": {},
   "outputs": [
    {
     "data": {
      "text/plain": [
       "array([[574546, 543435, 677688],\n",
       "       [ 79325,  68593,   6975],\n",
       "       [   152,    534,   2766]])"
      ]
     },
     "execution_count": 59,
     "metadata": {},
     "output_type": "execute_result"
    }
   ],
   "source": [
    "data1"
   ]
  },
  {
   "cell_type": "code",
   "execution_count": 72,
   "id": "41ab155f",
   "metadata": {},
   "outputs": [
    {
     "data": {
      "text/plain": [
       "(3, 3)"
      ]
     },
     "execution_count": 72,
     "metadata": {},
     "output_type": "execute_result"
    }
   ],
   "source": [
    "data1.shape"
   ]
  },
  {
   "cell_type": "code",
   "execution_count": 61,
   "id": "5f685fa8",
   "metadata": {},
   "outputs": [
    {
     "data": {
      "text/plain": [
       "9"
      ]
     },
     "execution_count": 61,
     "metadata": {},
     "output_type": "execute_result"
    }
   ],
   "source": [
    "data1.size"
   ]
  },
  {
   "cell_type": "code",
   "execution_count": 62,
   "id": "21c05ea3",
   "metadata": {},
   "outputs": [
    {
     "data": {
      "text/plain": [
       "dtype('int64')"
      ]
     },
     "execution_count": 62,
     "metadata": {},
     "output_type": "execute_result"
    }
   ],
   "source": [
    "data1.dtype"
   ]
  },
  {
   "cell_type": "code",
   "execution_count": 76,
   "id": "e80954a6",
   "metadata": {},
   "outputs": [
    {
     "data": {
      "text/plain": [
       "array([[574546, 543435, 677688,  79325,  68593,   6975,    152,    534,\n",
       "          2766]])"
      ]
     },
     "execution_count": 76,
     "metadata": {},
     "output_type": "execute_result"
    }
   ],
   "source": [
    "data1.reshape(1,9)"
   ]
  },
  {
   "cell_type": "code",
   "execution_count": 64,
   "id": "898951d9",
   "metadata": {},
   "outputs": [
    {
     "data": {
      "text/plain": [
       "array([[574546, 543435, 677688,  79325],\n",
       "       [ 68593,   6975,    152,    534],\n",
       "       [  2766, 574546, 543435, 677688],\n",
       "       [ 79325,  68593,   6975,    152]])"
      ]
     },
     "execution_count": 64,
     "metadata": {},
     "output_type": "execute_result"
    }
   ],
   "source": [
    "np.resize(data1,(4,4))"
   ]
  },
  {
   "cell_type": "code",
   "execution_count": 65,
   "id": "5200b7b1",
   "metadata": {},
   "outputs": [
    {
     "data": {
      "text/plain": [
       "array([[1., 1., 1., 1.],\n",
       "       [1., 1., 1., 1.],\n",
       "       [1., 1., 1., 1.],\n",
       "       [1., 1., 1., 1.],\n",
       "       [1., 1., 1., 1.]])"
      ]
     },
     "execution_count": 65,
     "metadata": {},
     "output_type": "execute_result"
    }
   ],
   "source": [
    "np.ones((5,4))"
   ]
  },
  {
   "cell_type": "code",
   "execution_count": 67,
   "id": "12adb285",
   "metadata": {},
   "outputs": [
    {
     "data": {
      "text/plain": [
       "array([[0., 0., 0., 0., 0., 0.],\n",
       "       [0., 0., 0., 0., 0., 0.],\n",
       "       [0., 0., 0., 0., 0., 0.]])"
      ]
     },
     "execution_count": 67,
     "metadata": {},
     "output_type": "execute_result"
    }
   ],
   "source": [
    "np.zeros((3,6))"
   ]
  },
  {
   "cell_type": "code",
   "execution_count": 68,
   "id": "c8e0a91f",
   "metadata": {},
   "outputs": [
    {
     "data": {
      "text/plain": [
       "1954014"
      ]
     },
     "execution_count": 68,
     "metadata": {},
     "output_type": "execute_result"
    }
   ],
   "source": [
    "data1.sum()"
   ]
  },
  {
   "cell_type": "code",
   "execution_count": 77,
   "id": "0e3c990d",
   "metadata": {},
   "outputs": [
    {
     "data": {
      "text/plain": [
       "array([1795669,  154893,    3452])"
      ]
     },
     "execution_count": 77,
     "metadata": {},
     "output_type": "execute_result"
    }
   ],
   "source": [
    "data1.sum(axis=1)"
   ]
  },
  {
   "cell_type": "code",
   "execution_count": 78,
   "id": "ff8c17d6",
   "metadata": {},
   "outputs": [
    {
     "data": {
      "text/plain": [
       "array([654023, 612562, 687429])"
      ]
     },
     "execution_count": 78,
     "metadata": {},
     "output_type": "execute_result"
    }
   ],
   "source": [
    "data1.sum(axis=0)"
   ]
  },
  {
   "cell_type": "code",
   "execution_count": 79,
   "id": "4736c995",
   "metadata": {},
   "outputs": [
    {
     "data": {
      "text/plain": [
       "217112.66666666666"
      ]
     },
     "execution_count": 79,
     "metadata": {},
     "output_type": "execute_result"
    }
   ],
   "source": [
    "data1.mean()"
   ]
  },
  {
   "cell_type": "code",
   "execution_count": 81,
   "id": "c92e4270",
   "metadata": {},
   "outputs": [
    {
     "data": {
      "text/plain": [
       "273150.061597406"
      ]
     },
     "execution_count": 81,
     "metadata": {},
     "output_type": "execute_result"
    }
   ],
   "source": [
    "data1.std()"
   ]
  },
  {
   "cell_type": "code",
   "execution_count": 82,
   "id": "addbf759",
   "metadata": {},
   "outputs": [
    {
     "data": {
      "text/plain": [
       "74610956150.66667"
      ]
     },
     "execution_count": 82,
     "metadata": {},
     "output_type": "execute_result"
    }
   ],
   "source": [
    "data1.var()"
   ]
  },
  {
   "cell_type": "code",
   "execution_count": 83,
   "id": "2177d1b0",
   "metadata": {},
   "outputs": [
    {
     "data": {
      "text/plain": [
       "677688"
      ]
     },
     "execution_count": 83,
     "metadata": {},
     "output_type": "execute_result"
    }
   ],
   "source": [
    "data1.max()"
   ]
  },
  {
   "cell_type": "code",
   "execution_count": 84,
   "id": "2342384e",
   "metadata": {},
   "outputs": [
    {
     "data": {
      "text/plain": [
       "152"
      ]
     },
     "execution_count": 84,
     "metadata": {},
     "output_type": "execute_result"
    }
   ],
   "source": [
    "data1.min()"
   ]
  },
  {
   "cell_type": "code",
   "execution_count": 86,
   "id": "d71cd268",
   "metadata": {},
   "outputs": [
    {
     "data": {
      "text/plain": [
       "array([[0.68498312, 0.59683738, 0.77739472, 0.74604503, 0.74830859],\n",
       "       [0.70711103, 0.26639973, 0.59445695, 0.43983872, 0.95823002],\n",
       "       [0.87774441, 0.44850908, 0.02393911, 0.18170305, 0.298568  ],\n",
       "       [0.68786022, 0.46607601, 0.85179893, 0.80989628, 0.30758764],\n",
       "       [0.61563607, 0.80102419, 0.21949888, 0.177268  , 0.98386118]])"
      ]
     },
     "execution_count": 86,
     "metadata": {},
     "output_type": "execute_result"
    }
   ],
   "source": [
    "np.random.rand(5,5)"
   ]
  },
  {
   "cell_type": "code",
   "execution_count": 89,
   "id": "3e0808dc",
   "metadata": {},
   "outputs": [
    {
     "data": {
      "text/plain": [
       "array([[ 52, 116, 191, 185,  46],\n",
       "       [ 53, 142, 166,  36,  27],\n",
       "       [ 58,  56, 140, 132,  71],\n",
       "       [ 82, 121, 141,  74, 185],\n",
       "       [181,  26, 103,  26, 101]])"
      ]
     },
     "execution_count": 89,
     "metadata": {},
     "output_type": "execute_result"
    }
   ],
   "source": [
    "np.random.randint(200, size=(5,5))"
   ]
  },
  {
   "cell_type": "code",
   "execution_count": 90,
   "id": "75310924",
   "metadata": {},
   "outputs": [
    {
     "data": {
      "text/plain": [
       "array([574546, 543435, 677688,  79325,  68593,   6975,    152,    534,\n",
       "         2766])"
      ]
     },
     "execution_count": 90,
     "metadata": {},
     "output_type": "execute_result"
    }
   ],
   "source": [
    "data1.flatten()"
   ]
  },
  {
   "cell_type": "code",
   "execution_count": 91,
   "id": "47c86c1f",
   "metadata": {},
   "outputs": [
    {
     "data": {
      "text/plain": [
       "[[574546, 543435, 677688], [79325, 68593, 6975], [152, 534, 2766]]"
      ]
     },
     "execution_count": 91,
     "metadata": {},
     "output_type": "execute_result"
    }
   ],
   "source": [
    "data1.tolist()"
   ]
  },
  {
   "cell_type": "code",
   "execution_count": 93,
   "id": "a7ec6a78",
   "metadata": {},
   "outputs": [],
   "source": [
    "a=np.linspace(0,50,10)"
   ]
  },
  {
   "cell_type": "code",
   "execution_count": 94,
   "id": "368473ed",
   "metadata": {},
   "outputs": [
    {
     "data": {
      "text/plain": [
       "array([ 0.        ,  5.55555556, 11.11111111, 16.66666667, 22.22222222,\n",
       "       27.77777778, 33.33333333, 38.88888889, 44.44444444, 50.        ])"
      ]
     },
     "execution_count": 94,
     "metadata": {},
     "output_type": "execute_result"
    }
   ],
   "source": [
    "a"
   ]
  },
  {
   "cell_type": "code",
   "execution_count": 95,
   "id": "a59325a3",
   "metadata": {},
   "outputs": [
    {
     "data": {
      "text/plain": [
       "10"
      ]
     },
     "execution_count": 95,
     "metadata": {},
     "output_type": "execute_result"
    }
   ],
   "source": [
    "a.size"
   ]
  },
  {
   "cell_type": "code",
   "execution_count": 98,
   "id": "ff320cd3",
   "metadata": {},
   "outputs": [
    {
     "data": {
      "text/plain": [
       "array([ 0,  3,  6,  9, 12, 15, 18])"
      ]
     },
     "execution_count": 98,
     "metadata": {},
     "output_type": "execute_result"
    }
   ],
   "source": [
    "np.arange(0,20,3)"
   ]
  },
  {
   "cell_type": "code",
   "execution_count": 99,
   "id": "1d6c91be",
   "metadata": {},
   "outputs": [
    {
     "data": {
      "text/plain": [
       "array([[1., 0., 0., 0., 0.],\n",
       "       [0., 1., 0., 0., 0.],\n",
       "       [0., 0., 1., 0., 0.],\n",
       "       [0., 0., 0., 1., 0.],\n",
       "       [0., 0., 0., 0., 1.]])"
      ]
     },
     "execution_count": 99,
     "metadata": {},
     "output_type": "execute_result"
    }
   ],
   "source": [
    "np.eye(5)"
   ]
  },
  {
   "cell_type": "code",
   "execution_count": 100,
   "id": "a42f9439",
   "metadata": {},
   "outputs": [
    {
     "data": {
      "text/plain": [
       "array([[   784,    850,    400],\n",
       "       [ 78569, 568956,  85746]])"
      ]
     },
     "execution_count": 100,
     "metadata": {},
     "output_type": "execute_result"
    }
   ],
   "source": [
    "data.T"
   ]
  },
  {
   "cell_type": "code",
   "execution_count": 101,
   "id": "49320e77",
   "metadata": {},
   "outputs": [
    {
     "data": {
      "text/plain": [
       "array([[   789,  78574],\n",
       "       [   855, 568961],\n",
       "       [   405,  85751]])"
      ]
     },
     "execution_count": 101,
     "metadata": {},
     "output_type": "execute_result"
    }
   ],
   "source": [
    "data+5"
   ]
  },
  {
   "cell_type": "code",
   "execution_count": 102,
   "id": "81c34f41",
   "metadata": {},
   "outputs": [
    {
     "data": {
      "text/plain": [
       "array([794, 860, 410])"
      ]
     },
     "execution_count": 102,
     "metadata": {},
     "output_type": "execute_result"
    }
   ],
   "source": [
    "np.add(data[:,0],10)"
   ]
  },
  {
   "cell_type": "code",
   "execution_count": 103,
   "id": "4de1b92a",
   "metadata": {},
   "outputs": [],
   "source": [
    "data[:,0]=np.add(data[:,0],10)"
   ]
  },
  {
   "cell_type": "code",
   "execution_count": 104,
   "id": "08afb768",
   "metadata": {},
   "outputs": [],
   "source": [
    "df=data.copy()"
   ]
  },
  {
   "cell_type": "code",
   "execution_count": 105,
   "id": "6fe2d9f7",
   "metadata": {},
   "outputs": [
    {
     "data": {
      "text/plain": [
       "array([[   794,  78569],\n",
       "       [   860, 568956],\n",
       "       [   410,  85746]])"
      ]
     },
     "execution_count": 105,
     "metadata": {},
     "output_type": "execute_result"
    }
   ],
   "source": [
    "df"
   ]
  },
  {
   "cell_type": "code",
   "execution_count": 106,
   "id": "34c41db5",
   "metadata": {},
   "outputs": [
    {
     "data": {
      "text/plain": [
       "array([[  794, 78569],\n",
       "       [  410, 85746]])"
      ]
     },
     "execution_count": 106,
     "metadata": {},
     "output_type": "execute_result"
    }
   ],
   "source": [
    "np.delete(df,1,axis=0)"
   ]
  },
  {
   "cell_type": "code",
   "execution_count": 107,
   "id": "cbd19bc8",
   "metadata": {},
   "outputs": [
    {
     "data": {
      "text/plain": [
       "array([ 79363, 569816,  86156])"
      ]
     },
     "execution_count": 107,
     "metadata": {},
     "output_type": "execute_result"
    }
   ],
   "source": [
    "df.sum(axis=1)"
   ]
  },
  {
   "cell_type": "code",
   "execution_count": 108,
   "id": "e891462c",
   "metadata": {},
   "outputs": [
    {
     "data": {
      "text/plain": [
       "array([[ 0.73314932, -0.78909012],\n",
       "       [-0.71483427,  0.84365997],\n",
       "       [ 0.99975451, -0.58905351]])"
      ]
     },
     "execution_count": 108,
     "metadata": {},
     "output_type": "execute_result"
    }
   ],
   "source": [
    "np.sin(data)"
   ]
  },
  {
   "cell_type": "code",
   "execution_count": 109,
   "id": "d99ea9c9",
   "metadata": {},
   "outputs": [
    {
     "data": {
      "text/plain": [
       "array([[ 6.67708346, 11.2717325 ],\n",
       "       [ 6.75693239, 13.25155838],\n",
       "       [ 6.01615716, 11.35914472]])"
      ]
     },
     "execution_count": 109,
     "metadata": {},
     "output_type": "execute_result"
    }
   ],
   "source": [
    "np.log(data)"
   ]
  },
  {
   "cell_type": "code",
   "execution_count": 110,
   "id": "8f7f4fdf",
   "metadata": {},
   "outputs": [
    {
     "data": {
      "text/plain": [
       "array([[   794,  78569],\n",
       "       [   860, 568956],\n",
       "       [   410,  85746]])"
      ]
     },
     "execution_count": 110,
     "metadata": {},
     "output_type": "execute_result"
    }
   ],
   "source": [
    "np.abs(data)"
   ]
  },
  {
   "cell_type": "code",
   "execution_count": 111,
   "id": "e811e10d",
   "metadata": {},
   "outputs": [],
   "source": [
    "out=np.sqrt(data)"
   ]
  },
  {
   "cell_type": "code",
   "execution_count": 112,
   "id": "220ec9bd",
   "metadata": {},
   "outputs": [
    {
     "data": {
      "text/plain": [
       "array([[ 28.17800561, 280.30162326],\n",
       "       [ 29.3257566 , 754.29172076],\n",
       "       [ 20.24845673, 292.82417933]])"
      ]
     },
     "execution_count": 112,
     "metadata": {},
     "output_type": "execute_result"
    }
   ],
   "source": [
    "out"
   ]
  },
  {
   "cell_type": "code",
   "execution_count": 113,
   "id": "96a53108",
   "metadata": {},
   "outputs": [
    {
     "data": {
      "text/plain": [
       "array([[ 29., 281.],\n",
       "       [ 30., 755.],\n",
       "       [ 21., 293.]])"
      ]
     },
     "execution_count": 113,
     "metadata": {},
     "output_type": "execute_result"
    }
   ],
   "source": [
    "np.ceil(out)"
   ]
  },
  {
   "cell_type": "code",
   "execution_count": 114,
   "id": "79e8d2ac",
   "metadata": {},
   "outputs": [
    {
     "data": {
      "text/plain": [
       "array([[ 28., 280.],\n",
       "       [ 29., 754.],\n",
       "       [ 20., 293.]])"
      ]
     },
     "execution_count": 114,
     "metadata": {},
     "output_type": "execute_result"
    }
   ],
   "source": [
    "np.round(out)"
   ]
  },
  {
   "cell_type": "code",
   "execution_count": 115,
   "id": "63db842d",
   "metadata": {},
   "outputs": [
    {
     "data": {
      "text/plain": [
       "array([[      630436,   6173087761],\n",
       "       [      739600, 323710929936],\n",
       "       [      168100,   7352376516]])"
      ]
     },
     "execution_count": 115,
     "metadata": {},
     "output_type": "execute_result"
    }
   ],
   "source": [
    "np.power(data,2)"
   ]
  },
  {
   "cell_type": "code",
   "execution_count": null,
   "id": "ea67d679",
   "metadata": {},
   "outputs": [],
   "source": []
  }
 ],
 "metadata": {
  "kernelspec": {
   "display_name": "Python 3 (ipykernel)",
   "language": "python",
   "name": "python3"
  },
  "language_info": {
   "codemirror_mode": {
    "name": "ipython",
    "version": 3
   },
   "file_extension": ".py",
   "mimetype": "text/x-python",
   "name": "python",
   "nbconvert_exporter": "python",
   "pygments_lexer": "ipython3",
   "version": "3.9.12"
  }
 },
 "nbformat": 4,
 "nbformat_minor": 5
}
